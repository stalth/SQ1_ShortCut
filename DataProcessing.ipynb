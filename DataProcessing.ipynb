{
 "cells": [
  {
   "cell_type": "code",
   "execution_count": 10,
   "metadata": {},
   "outputs": [],
   "source": [
    "import pickle\n",
    "from obj_class_pickle import DataGraphs\n",
    "import numpy as np\n",
    "import matplotlib.pyplot as plt \n",
    "import os\n",
    "from itertools import permutations\n",
    "import time\n",
    "\n",
    "directory = 'C:/Repositories/SQ1_ShortCut/results/50nodes'\n",
    "\n",
    "resultRatiosByFile = {}\n",
    "for filename in os.listdir(directory):\n",
    "    resultRatiosByFile[filename] = {}\n",
    "    result = DataGraphs.load(\"results/50nodes/\" + filename) \n",
    "    nodes = result.n\n",
    "    for src in result.hops_dict:\n",
    "        resultRatiosByFile[filename][src] = {}       \n",
    "        for destination in result.hops_dict[src]:           \n",
    "            lst_hops = result.hops_dict[src][destination]\n",
    "            lst_hops_sc = result.hops_dict_sc[src][destination]\n",
    "            lst_ratio = [a / b for a, b in zip(lst_hops, lst_hops_sc)]\n",
    "            resultRatiosByFile[filename][src][destination] = lst_ratio\n",
    "            pass  \n",
    "#resultRatiosByFile"
   ]
  },
  {
   "cell_type": "code",
   "execution_count": 11,
   "metadata": {},
   "outputs": [
    {
     "data": {
      "text/plain": [
       "100"
      ]
     },
     "execution_count": 11,
     "metadata": {},
     "output_type": "execute_result"
    }
   ],
   "source": [
    "len(resultRatiosByFile.keys())\n",
    "result_dict_by_failureNum = {}\n",
    "\n",
    "for filename2 in resultRatiosByFile:\n",
    "    pass"
   ]
  }
 ],
 "metadata": {
  "kernelspec": {
   "display_name": "Python 3",
   "language": "python",
   "name": "python3"
  },
  "language_info": {
   "codemirror_mode": {
    "name": "ipython",
    "version": 3
   },
   "file_extension": ".py",
   "mimetype": "text/x-python",
   "name": "python",
   "nbconvert_exporter": "python",
   "pygments_lexer": "ipython3",
   "version": "3.11.1"
  },
  "orig_nbformat": 4
 },
 "nbformat": 4,
 "nbformat_minor": 2
}
